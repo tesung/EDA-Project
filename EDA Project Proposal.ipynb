{
 "cells": [
  {
   "cell_type": "markdown",
   "id": "e29115f5",
   "metadata": {},
   "source": [
    "Question/need:\n",
    "\n",
    "What is the framing question of your analysis, or the purpose of the model/system you plan to build?\n",
    "\n",
    "Problem: The New York Marketing Firm (NYMF) wants to place advertisements for their client Feel, a health technology company with a new product (wearable device) that allows people to share their psychological state/emotions with a provider. They want to know in which MTA stations should they purchase ad-spaces to maximize consumer exposure. \n",
    "\n",
    "Who benefits from exploring this question or building this model/system?\n",
    "\n",
    "Answer: NYMF gets a good ad placement. Feel gets their product promoted. Providers gain a more efficient and accurate way to help their patients. Responsibility for a patient to accurately describe their state of mind is reduced.  \n",
    "\n",
    "Data Description: \n",
    "\n",
    "What dataset(s) do you plan to use, and how will you obtain the data?\n",
    "- Use MTA data from the year 2021-2022 obtained from MTA turnstile data\n",
    "\n",
    "What is an individual sample/unit of analysis in this project? What characteristics/features do you expect to work with?\n",
    "If modeling, what will you predict as your target?\n",
    "- analyze traffic into and out of each station to determine heavy/light flow during rush-hour times 8/9am, 5/6pm and midday 12-2pm.\n",
    "\n",
    "Tools:\n",
    "\n",
    "How do you intend to meet the tools requirement of the project?\n",
    "- use Pandas and Matplotlib for EDA and graphs\n",
    "- git/github for code upload/storing\n",
    "\n",
    "Are you planning in advance to need or use additional tools beyond those required?\n",
    "- No\n",
    "\n"
   ]
  }
 ],
 "metadata": {
  "kernelspec": {
   "display_name": "Python 3 (ipykernel)",
   "language": "python",
   "name": "python3"
  },
  "language_info": {
   "codemirror_mode": {
    "name": "ipython",
    "version": 3
   },
   "file_extension": ".py",
   "mimetype": "text/x-python",
   "name": "python",
   "nbconvert_exporter": "python",
   "pygments_lexer": "ipython3",
   "version": "3.9.7"
  }
 },
 "nbformat": 4,
 "nbformat_minor": 5
}
